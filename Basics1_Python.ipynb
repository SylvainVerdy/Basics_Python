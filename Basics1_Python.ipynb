{
 "cells": [
  {
   "cell_type": "markdown",
   "metadata": {},
   "source": [
    "### Hello everyone and welcome for the first tutorial in python\n",
    "\n",
    "##### We will work in different steps:\n",
    "__1.Variables__  \n",
    "__2.Loops__  \n",
    "__3.Conditions__\n",
    "\n",
    "\n",
    "\n",
    "###### The variables haven't got type in python, whereas in  C we have to declare the type of variable ( int var ;),  it's an integer, int is considered as an integer\n"
   ]
  },
  {
   "cell_type": "markdown",
   "metadata": {},
   "source": [
    "### 1.Variables"
   ]
  },
  {
   "cell_type": "code",
   "execution_count": 1,
   "metadata": {},
   "outputs": [],
   "source": [
    "variable =1 #integer\n",
    "variable_string = \"titi\" # string\n",
    "variable_float = 3.92"
   ]
  },
  {
   "cell_type": "markdown",
   "metadata": {},
   "source": [
    "### To display the variable in the terminal we use: print()\n",
    "\n",
    "#### But people prefer and advise to use loggings mainly for bugs, and errors of code. We will see logs in another tutorial. "
   ]
  },
  {
   "cell_type": "code",
   "execution_count": 2,
   "metadata": {
    "scrolled": true
   },
   "outputs": [
    {
     "name": "stdout",
     "output_type": "stream",
     "text": [
      "1\n",
      "3.92  abcd  titi\n"
     ]
    }
   ],
   "source": [
    "print(variable)\n",
    "print(variable_float, \" abcd \" , variable_string) ### You can concatenate some data: string with float, etc..."
   ]
  },
  {
   "cell_type": "markdown",
   "metadata": {},
   "source": [
    "### 2.Loop"
   ]
  },
  {
   "cell_type": "markdown",
   "metadata": {},
   "source": [
    "### We will see the loop for and while. The loop in general can iterate the same code some times"
   ]
  },
  {
   "cell_type": "code",
   "execution_count": 3,
   "metadata": {},
   "outputs": [
    {
     "name": "stdout",
     "output_type": "stream",
     "text": [
      "11\n"
     ]
    }
   ],
   "source": [
    "variable = 0\n",
    "for i in range(0,11):\n",
    "    variable +=1\n",
    "print(variable)"
   ]
  },
  {
   "cell_type": "markdown",
   "metadata": {},
   "source": [
    "### You can see  variable has the value 0 and we add for each iteration (+1), we can do the same with while loop"
   ]
  },
  {
   "cell_type": "code",
   "execution_count": 4,
   "metadata": {},
   "outputs": [
    {
     "name": "stdout",
     "output_type": "stream",
     "text": [
      "11\n"
     ]
    }
   ],
   "source": [
    "variable = 0\n",
    "\n",
    "while(variable<11):\n",
    "    variable+=1\n",
    "print(variable)"
   ]
  },
  {
   "cell_type": "markdown",
   "metadata": {},
   "source": [
    "### In this case we introduce the notion of condition because the while loop do the iteration if variable is lower than 11 when it's equal, the programme stop."
   ]
  },
  {
   "cell_type": "markdown",
   "metadata": {},
   "source": [
    "### 3.Conditions"
   ]
  },
  {
   "cell_type": "code",
   "execution_count": 5,
   "metadata": {},
   "outputs": [
    {
     "name": "stdout",
     "output_type": "stream",
     "text": [
      "plus grand\n"
     ]
    }
   ],
   "source": [
    "variable = 2\n",
    "variable_float = 2.01\n",
    "if variable <= variable_float:\n",
    "    print(\"Bigger\")\n",
    "else:\n",
    "    print(\"Smaller\")\n"
   ]
  },
  {
   "cell_type": "markdown",
   "metadata": {},
   "source": [
    "##### We see the value of \"variable\" is less than variable_float. If it will be different we enter in the condition2 \"else:\" and display \"plus petit\""
   ]
  },
  {
   "cell_type": "code",
   "execution_count": null,
   "metadata": {},
   "outputs": [],
   "source": []
  }
 ],
 "metadata": {
  "kernelspec": {
   "display_name": "Python 3",
   "language": "python",
   "name": "python3"
  },
  "language_info": {
   "codemirror_mode": {
    "name": "ipython",
    "version": 3
   },
   "file_extension": ".py",
   "mimetype": "text/x-python",
   "name": "python",
   "nbconvert_exporter": "python",
   "pygments_lexer": "ipython3",
   "version": "3.7.1"
  }
 },
 "nbformat": 4,
 "nbformat_minor": 2
}
