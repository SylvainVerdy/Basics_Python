{
  "nbformat": 4,
  "nbformat_minor": 0,
  "metadata": {
    "colab": {
      "name": "Xgboost_example",
      "provenance": [],
      "collapsed_sections": [],
      "authorship_tag": "ABX9TyO789PvfvEZ+uNkABGcRENs"
    },
    "kernelspec": {
      "name": "python3",
      "display_name": "Python 3"
    }
  },
  "cells": [
    {
      "cell_type": "code",
      "metadata": {
        "id": "pQhn_u9t4JsL",
        "colab_type": "code",
        "colab": {}
      },
      "source": [
        "import sklearn"
      ],
      "execution_count": 0,
      "outputs": []
    },
    {
      "cell_type": "code",
      "metadata": {
        "id": "MzN7XU104HLG",
        "colab_type": "code",
        "outputId": "e0efeae0-1de5-490c-ef6c-7771b038d970",
        "colab": {
          "base_uri": "https://localhost:8080/",
          "height": 1000
        }
      },
      "source": [
        "import pandas as pd, numpy as np\n",
        "from sklearn.datasets import make_classification\n",
        "from sklearn.metrics import roc_auc_score\n",
        "from sklearn.model_selection import train_test_split\n",
        "import xgboost as xgb\n",
        "\n",
        "X,y  = make_classification(n_samples=3000, n_features=20, n_informative=4,\n",
        "                        n_redundant=4, n_repeated=0, n_classes=2,\n",
        "                        n_clusters_per_class=2, weights=None, flip_y=0.01,\n",
        "                        class_sep=1.0, hypercube=True, shift=0.0, scale=1.0,\n",
        "                        shuffle=True, random_state=None)\n",
        "train, valid, y_train, y_valid = train_test_split(X,y, test_size=0.33 , random_state=42)\n",
        "\n",
        "\n",
        "clf = xgb.XGBClassifier(n_estimators = 10000,\n",
        "                        max_depth = 6,\n",
        "                        min_child_weight = 10,\n",
        "                        subsample = 0.8)\n",
        "\n",
        "eval_set  = [( train, y_train), ( valid, y_valid)]\n",
        "clf.fit(train, y_train,\n",
        "        eval_set=eval_set, eval_metric=\"auc\",\n",
        "        early_stopping_rounds=30)\n",
        "\n",
        "pred = clf.predict_proba(valid)[:,1]\n",
        "auc = roc_auc_score(y_valid, pred)\n",
        "print(\"SCORE:\", auc)\n",
        "print({'loss':1-auc, 'status': STATUS_OK })\n"
      ],
      "execution_count": 36,
      "outputs": [
        {
          "output_type": "stream",
          "text": [
            "[0]\tvalidation_0-auc:0.951858\tvalidation_1-auc:0.948203\n",
            "Multiple eval metrics have been passed: 'validation_1-auc' will be used for early stopping.\n",
            "\n",
            "Will train until validation_1-auc hasn't improved in 30 rounds.\n",
            "[1]\tvalidation_0-auc:0.958402\tvalidation_1-auc:0.957206\n",
            "[2]\tvalidation_0-auc:0.967076\tvalidation_1-auc:0.962215\n",
            "[3]\tvalidation_0-auc:0.970276\tvalidation_1-auc:0.964715\n",
            "[4]\tvalidation_0-auc:0.970972\tvalidation_1-auc:0.965702\n",
            "[5]\tvalidation_0-auc:0.973553\tvalidation_1-auc:0.965649\n",
            "[6]\tvalidation_0-auc:0.974341\tvalidation_1-auc:0.965866\n",
            "[7]\tvalidation_0-auc:0.975029\tvalidation_1-auc:0.966974\n",
            "[8]\tvalidation_0-auc:0.976686\tvalidation_1-auc:0.967395\n",
            "[9]\tvalidation_0-auc:0.978846\tvalidation_1-auc:0.96674\n",
            "[10]\tvalidation_0-auc:0.97968\tvalidation_1-auc:0.967529\n",
            "[11]\tvalidation_0-auc:0.980877\tvalidation_1-auc:0.968587\n",
            "[12]\tvalidation_0-auc:0.981413\tvalidation_1-auc:0.968677\n",
            "[13]\tvalidation_0-auc:0.982391\tvalidation_1-auc:0.970051\n",
            "[14]\tvalidation_0-auc:0.982739\tvalidation_1-auc:0.97139\n",
            "[15]\tvalidation_0-auc:0.982844\tvalidation_1-auc:0.971352\n",
            "[16]\tvalidation_0-auc:0.983146\tvalidation_1-auc:0.971481\n",
            "[17]\tvalidation_0-auc:0.983659\tvalidation_1-auc:0.972537\n",
            "[18]\tvalidation_0-auc:0.9843\tvalidation_1-auc:0.973094\n",
            "[19]\tvalidation_0-auc:0.98482\tvalidation_1-auc:0.974478\n",
            "[20]\tvalidation_0-auc:0.985411\tvalidation_1-auc:0.974771\n",
            "[21]\tvalidation_0-auc:0.98592\tvalidation_1-auc:0.974964\n",
            "[22]\tvalidation_0-auc:0.986073\tvalidation_1-auc:0.975045\n",
            "[23]\tvalidation_0-auc:0.986201\tvalidation_1-auc:0.974984\n",
            "[24]\tvalidation_0-auc:0.986522\tvalidation_1-auc:0.975365\n",
            "[25]\tvalidation_0-auc:0.986722\tvalidation_1-auc:0.975443\n",
            "[26]\tvalidation_0-auc:0.986771\tvalidation_1-auc:0.975592\n",
            "[27]\tvalidation_0-auc:0.986783\tvalidation_1-auc:0.975697\n",
            "[28]\tvalidation_0-auc:0.987019\tvalidation_1-auc:0.975561\n",
            "[29]\tvalidation_0-auc:0.987143\tvalidation_1-auc:0.975647\n",
            "[30]\tvalidation_0-auc:0.987384\tvalidation_1-auc:0.976016\n",
            "[31]\tvalidation_0-auc:0.987675\tvalidation_1-auc:0.976372\n",
            "[32]\tvalidation_0-auc:0.987881\tvalidation_1-auc:0.976421\n",
            "[33]\tvalidation_0-auc:0.987963\tvalidation_1-auc:0.976434\n",
            "[34]\tvalidation_0-auc:0.988229\tvalidation_1-auc:0.976276\n",
            "[35]\tvalidation_0-auc:0.988277\tvalidation_1-auc:0.976665\n",
            "[36]\tvalidation_0-auc:0.988204\tvalidation_1-auc:0.976682\n",
            "[37]\tvalidation_0-auc:0.98838\tvalidation_1-auc:0.976944\n",
            "[38]\tvalidation_0-auc:0.988607\tvalidation_1-auc:0.977013\n",
            "[39]\tvalidation_0-auc:0.988693\tvalidation_1-auc:0.976583\n",
            "[40]\tvalidation_0-auc:0.988764\tvalidation_1-auc:0.976841\n",
            "[41]\tvalidation_0-auc:0.988821\tvalidation_1-auc:0.977361\n",
            "[42]\tvalidation_0-auc:0.988922\tvalidation_1-auc:0.977054\n",
            "[43]\tvalidation_0-auc:0.989063\tvalidation_1-auc:0.976931\n",
            "[44]\tvalidation_0-auc:0.989127\tvalidation_1-auc:0.976968\n",
            "[45]\tvalidation_0-auc:0.989172\tvalidation_1-auc:0.976952\n",
            "[46]\tvalidation_0-auc:0.9892\tvalidation_1-auc:0.976837\n",
            "[47]\tvalidation_0-auc:0.989412\tvalidation_1-auc:0.976858\n",
            "[48]\tvalidation_0-auc:0.989726\tvalidation_1-auc:0.976915\n",
            "[49]\tvalidation_0-auc:0.989945\tvalidation_1-auc:0.977013\n",
            "[50]\tvalidation_0-auc:0.99018\tvalidation_1-auc:0.976845\n",
            "[51]\tvalidation_0-auc:0.990305\tvalidation_1-auc:0.976591\n",
            "[52]\tvalidation_0-auc:0.990365\tvalidation_1-auc:0.976751\n",
            "[53]\tvalidation_0-auc:0.990602\tvalidation_1-auc:0.976542\n",
            "[54]\tvalidation_0-auc:0.990748\tvalidation_1-auc:0.976411\n",
            "[55]\tvalidation_0-auc:0.990853\tvalidation_1-auc:0.976366\n",
            "[56]\tvalidation_0-auc:0.990987\tvalidation_1-auc:0.97671\n",
            "[57]\tvalidation_0-auc:0.991196\tvalidation_1-auc:0.976837\n",
            "[58]\tvalidation_0-auc:0.991436\tvalidation_1-auc:0.976608\n",
            "[59]\tvalidation_0-auc:0.991558\tvalidation_1-auc:0.976473\n",
            "[60]\tvalidation_0-auc:0.991737\tvalidation_1-auc:0.976804\n",
            "[61]\tvalidation_0-auc:0.991943\tvalidation_1-auc:0.976968\n",
            "[62]\tvalidation_0-auc:0.992053\tvalidation_1-auc:0.977013\n",
            "[63]\tvalidation_0-auc:0.992224\tvalidation_1-auc:0.976813\n",
            "[64]\tvalidation_0-auc:0.992353\tvalidation_1-auc:0.976632\n",
            "[65]\tvalidation_0-auc:0.992424\tvalidation_1-auc:0.976649\n",
            "[66]\tvalidation_0-auc:0.992424\tvalidation_1-auc:0.976845\n",
            "[67]\tvalidation_0-auc:0.992536\tvalidation_1-auc:0.976931\n",
            "[68]\tvalidation_0-auc:0.992577\tvalidation_1-auc:0.976948\n",
            "[69]\tvalidation_0-auc:0.992597\tvalidation_1-auc:0.977013\n",
            "[70]\tvalidation_0-auc:0.992804\tvalidation_1-auc:0.977058\n",
            "[71]\tvalidation_0-auc:0.992906\tvalidation_1-auc:0.976923\n",
            "Stopping. Best iteration:\n",
            "[41]\tvalidation_0-auc:0.988821\tvalidation_1-auc:0.977361\n",
            "\n",
            "SCORE: 0.9773613340759427\n",
            "{'loss': 0.022638665924057277, 'status': 'ok'}\n"
          ],
          "name": "stdout"
        }
      ]
    },
    {
      "cell_type": "code",
      "metadata": {
        "id": "Ey1Q0-u-4VoX",
        "colab_type": "code",
        "colab": {}
      },
      "source": [
        ""
      ],
      "execution_count": 0,
      "outputs": []
    }
  ]
}